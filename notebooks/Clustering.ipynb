{
 "cells": [
  {
   "cell_type": "markdown",
   "metadata": {},
   "source": [
    "# Descripción del problema\n",
    "\n",
    "El análisis de redes sociales está sin lugar a dudas convirtiendose cada vez más en foco de atención. Uno de los aspectos más relevantes es el procesamiento computacional de los contenidos vertidos en ellas.\n",
    "\n",
    "Más aún: En el contexto actual de medios de difusión masivos de Argentina, es importante destacar la importancia de la circulación de información de medios alternativos que no sean los hegemónicos. En este sentido, el compartir datos en redes sociales, con la posibilidad siempre abierta de convertirse en tendencias (a escalas nacionales, regionales o mundiales) y tener un gran impacto en el escenario discursivo, hace de las redes sociales una herramienta de poder no menor.\n",
    "\n",
    "Este trabajo pretende hacer un análisis exploratorio de un conjunto de datos extraidos de la red social Twitter. En este primer acercamiento se cuenta con un conjunto pequeño de tweets publicados antes del debate del proyecto de aborto en el senado de la nación Argentina.\n",
    "\n",
    "El análisis exploratorio tiene como objectivo agrupar conjuntos de tweets en común en clústers, y, para dar una idea de la población general, se elegirán los tweets representativos de dichos clústers.\n",
    "\n",
    "Para caracterizar los tweets y abstraerlos para su agrupamiento se usaron _embeddings neuronales_ de la libreria [FastText](https://fasttext.cc/).\n",
    "\n",
    "\n",
    "Este trabajo tiene como inspiración (y estabasado en) el análisis disponible [aquí](https://github.com/pablocelayes/twitter-aborto)."
   ]
  },
  {
   "cell_type": "code",
   "execution_count": 1,
   "metadata": {},
   "outputs": [],
   "source": [
    "import json\n",
    "import pandas as pd\n",
    "import matplotlib.pyplot as plt"
   ]
  },
  {
   "cell_type": "code",
   "execution_count": 2,
   "metadata": {},
   "outputs": [],
   "source": [
    "%matplotlib inline\n",
    "# %load_ext memory_profiler  # pip install memory_profiler"
   ]
  },
  {
   "cell_type": "code",
   "execution_count": 3,
   "metadata": {},
   "outputs": [],
   "source": [
    "# read tweets for\n",
    "tweets_data_path_si = '../data/tweets_si.json'\n",
    "\n",
    "tweets_file_si = open(tweets_data_path_si, \"r\")\n",
    "tweets_data_si = json.load(tweets_file_si)\n",
    "\n",
    "# read tweets against\n",
    "tweets_data_path_no = '../data/tweets_no.json'\n",
    "\n",
    "tweets_file_no = open(tweets_data_path_no, \"r\")\n",
    "tweets_data_no = json.load(tweets_file_no)\n",
    "\n",
    "# add tagging for postitioning on topic\n",
    "[x.update({'position': 'no'}) for x in tweets_data_no]\n",
    "[x.update({'position': 'si'}) for x in tweets_data_si]\n",
    "\n",
    "# merge\n",
    "tweets_data_all = tweets_data_no + tweets_data_si"
   ]
  },
  {
   "cell_type": "code",
   "execution_count": 4,
   "metadata": {
    "scrolled": true
   },
   "outputs": [
    {
     "name": "stdout",
     "output_type": "stream",
     "text": [
      "Cantidad a favor: 1847\t\tCantidad en contra: 2462\n"
     ]
    }
   ],
   "source": [
    "print('Cantidad a favor: {}\\t\\tCantidad en contra: {}'.format(len(tweets_data_no), len(tweets_data_si)))"
   ]
  },
  {
   "cell_type": "code",
   "execution_count": 5,
   "metadata": {
    "scrolled": true
   },
   "outputs": [
    {
     "data": {
      "text/plain": [
       "{'contributors': None,\n",
       " 'coordinates': None,\n",
       " 'created_at': 'Tue Apr 17 11:02:42 +0000 2018',\n",
       " 'entities': {'hashtags': [],\n",
       "  'symbols': [],\n",
       "  'urls': [{'display_url': 'twitter.com/i/web/status/9…',\n",
       "    'expanded_url': 'https://twitter.com/i/web/status/986198259982110722',\n",
       "    'indices': [116, 139],\n",
       "    'url': 'https://t.co/oSTwbQUCoH'}],\n",
       "  'user_mentions': [{'id': 182923335,\n",
       "    'id_str': '182923335',\n",
       "    'indices': [0, 11],\n",
       "    'name': 'Radio Mitre',\n",
       "    'screen_name': 'radiomitre'}]},\n",
       " 'favorite_count': 0,\n",
       " 'favorited': False,\n",
       " 'geo': None,\n",
       " 'id': 986198259982110722,\n",
       " 'id_str': '986198259982110722',\n",
       " 'in_reply_to_screen_name': 'radiomitre',\n",
       " 'in_reply_to_status_id': 986190097933635584,\n",
       " 'in_reply_to_status_id_str': '986190097933635584',\n",
       " 'in_reply_to_user_id': 182923335,\n",
       " 'in_reply_to_user_id_str': '182923335',\n",
       " 'is_quote_status': False,\n",
       " 'lang': 'es',\n",
       " 'metadata': {'iso_language_code': 'es', 'result_type': 'recent'},\n",
       " 'place': None,\n",
       " 'position': 'no',\n",
       " 'retweet_count': 0,\n",
       " 'retweeted': False,\n",
       " 'source': '<a href=\"http://twitter.com/download/android\" rel=\"nofollow\">Twitter for Android</a>',\n",
       " 'text': '@radiomitre Nadie tiene la bola de cristal , para decir que el aborto , no va a destruir emocionalmente a miles de… https://t.co/oSTwbQUCoH',\n",
       " 'truncated': True,\n",
       " 'user': {'contributors_enabled': False,\n",
       "  'created_at': 'Wed Jun 01 21:44:35 +0000 2016',\n",
       "  'default_profile': True,\n",
       "  'default_profile_image': False,\n",
       "  'description': 'Lo que nadie te cuenta,  la verdad te hará libre',\n",
       "  'entities': {'description': {'urls': []}},\n",
       "  'favourites_count': 388,\n",
       "  'follow_request_sent': None,\n",
       "  'followers_count': 50,\n",
       "  'following': None,\n",
       "  'friends_count': 107,\n",
       "  'geo_enabled': True,\n",
       "  'has_extended_profile': False,\n",
       "  'id': 738124108085514241,\n",
       "  'id_str': '738124108085514241',\n",
       "  'is_translation_enabled': False,\n",
       "  'is_translator': False,\n",
       "  'lang': 'es',\n",
       "  'listed_count': 0,\n",
       "  'location': '',\n",
       "  'name': 'Sergio Arévalo',\n",
       "  'notifications': None,\n",
       "  'profile_background_color': 'F5F8FA',\n",
       "  'profile_background_image_url': None,\n",
       "  'profile_background_image_url_https': None,\n",
       "  'profile_background_tile': False,\n",
       "  'profile_banner_url': 'https://pbs.twimg.com/profile_banners/738124108085514241/1517550259',\n",
       "  'profile_image_url': 'http://pbs.twimg.com/profile_images/795765257742520321/x8mlTrc2_normal.jpg',\n",
       "  'profile_image_url_https': 'https://pbs.twimg.com/profile_images/795765257742520321/x8mlTrc2_normal.jpg',\n",
       "  'profile_link_color': '1DA1F2',\n",
       "  'profile_sidebar_border_color': 'C0DEED',\n",
       "  'profile_sidebar_fill_color': 'DDEEF6',\n",
       "  'profile_text_color': '333333',\n",
       "  'profile_use_background_image': True,\n",
       "  'protected': False,\n",
       "  'screen_name': 'sergiocatamarca',\n",
       "  'statuses_count': 2360,\n",
       "  'time_zone': None,\n",
       "  'translator_type': 'none',\n",
       "  'url': None,\n",
       "  'utc_offset': None,\n",
       "  'verified': False}}"
      ]
     },
     "execution_count": 5,
     "metadata": {},
     "output_type": "execute_result"
    }
   ],
   "source": [
    "# Raw print of one example\n",
    "tweets_data_all[5]"
   ]
  },
  {
   "cell_type": "code",
   "execution_count": 6,
   "metadata": {},
   "outputs": [],
   "source": [
    "# Cut some of the tweets data\n",
    "def recortar_tweet(t):\n",
    "    COLUMNAS = ['created_at', 'favorite_count', 'retweet_count', 'text', 'position']\n",
    "    tweet_recortado = {columna: t[columna] for columna in COLUMNAS}\n",
    "    tweet_recortado['user_name'] = t['user']['name']\n",
    "    return tweet_recortado"
   ]
  },
  {
   "cell_type": "code",
   "execution_count": 7,
   "metadata": {},
   "outputs": [
    {
     "data": {
      "text/plain": [
       "{'created_at': 'Tue Apr 17 11:40:55 +0000 2018',\n",
       " 'favorite_count': 0,\n",
       " 'position': 'no',\n",
       " 'retweet_count': 12,\n",
       " 'text': 'RT @LAM_Oficial: ¡Si a la Vida!¡No al aborto! #NoAlAborto',\n",
       " 'user_name': 'john giraldo'}"
      ]
     },
     "execution_count": 7,
     "metadata": {},
     "output_type": "execute_result"
    }
   ],
   "source": [
    "recortar_tweet(tweets_data_all[0])"
   ]
  },
  {
   "cell_type": "code",
   "execution_count": 8,
   "metadata": {},
   "outputs": [],
   "source": [
    "# Dataframe from cutted tweets\n",
    "recortados = [recortar_tweet(t) for t in tweets_data_all]\n",
    "tweets = pd.DataFrame(recortados)"
   ]
  },
  {
   "cell_type": "code",
   "execution_count": 9,
   "metadata": {},
   "outputs": [
    {
     "data": {
      "text/plain": [
       "'RT @LAM_Oficial: ¡Si a la Vida!¡No al aborto! #NoAlAborto'"
      ]
     },
     "execution_count": 9,
     "metadata": {},
     "output_type": "execute_result"
    }
   ],
   "source": [
    "tweets.text[0]"
   ]
  },
  {
   "cell_type": "code",
   "execution_count": 10,
   "metadata": {},
   "outputs": [
    {
     "data": {
      "text/plain": [
       "created_at        object\n",
       "favorite_count     int64\n",
       "position          object\n",
       "retweet_count      int64\n",
       "text              object\n",
       "user_name         object\n",
       "dtype: object"
      ]
     },
     "execution_count": 10,
     "metadata": {},
     "output_type": "execute_result"
    }
   ],
   "source": [
    "# pandas default datatype given\n",
    "tweets.dtypes"
   ]
  },
  {
   "cell_type": "code",
   "execution_count": 11,
   "metadata": {},
   "outputs": [
    {
     "data": {
      "text/plain": [
       "created_at        datetime64[ns]\n",
       "favorite_count             int64\n",
       "position                  object\n",
       "retweet_count              int64\n",
       "text                      object\n",
       "user_name                 object\n",
       "dtype: object"
      ]
     },
     "execution_count": 11,
     "metadata": {},
     "output_type": "execute_result"
    }
   ],
   "source": [
    "# Convert datatype of created_at column for better manipulation\n",
    "tweets['created_at'] = pd.to_datetime(tweets['created_at'])\n",
    "tweets.dtypes"
   ]
  },
  {
   "cell_type": "code",
   "execution_count": 12,
   "metadata": {},
   "outputs": [
    {
     "data": {
      "text/html": [
       "<div>\n",
       "<style scoped>\n",
       "    .dataframe tbody tr th:only-of-type {\n",
       "        vertical-align: middle;\n",
       "    }\n",
       "\n",
       "    .dataframe tbody tr th {\n",
       "        vertical-align: top;\n",
       "    }\n",
       "\n",
       "    .dataframe thead th {\n",
       "        text-align: right;\n",
       "    }\n",
       "</style>\n",
       "<table border=\"1\" class=\"dataframe\">\n",
       "  <thead>\n",
       "    <tr style=\"text-align: right;\">\n",
       "      <th></th>\n",
       "      <th>created_at</th>\n",
       "      <th>favorite_count</th>\n",
       "      <th>position</th>\n",
       "      <th>retweet_count</th>\n",
       "      <th>text</th>\n",
       "      <th>user_name</th>\n",
       "    </tr>\n",
       "  </thead>\n",
       "  <tbody>\n",
       "    <tr>\n",
       "      <th>0</th>\n",
       "      <td>2018-04-17 11:40:55</td>\n",
       "      <td>0</td>\n",
       "      <td>no</td>\n",
       "      <td>12</td>\n",
       "      <td>RT @LAM_Oficial: ¡Si a la Vida!¡No al aborto! ...</td>\n",
       "      <td>john giraldo</td>\n",
       "    </tr>\n",
       "    <tr>\n",
       "      <th>1</th>\n",
       "      <td>2018-04-17 11:38:08</td>\n",
       "      <td>0</td>\n",
       "      <td>no</td>\n",
       "      <td>24</td>\n",
       "      <td>RT @PattRam74: Ahora a la izquierda le dió con...</td>\n",
       "      <td>Mario Astorga</td>\n",
       "    </tr>\n",
       "    <tr>\n",
       "      <th>2</th>\n",
       "      <td>2018-04-17 11:15:34</td>\n",
       "      <td>0</td>\n",
       "      <td>no</td>\n",
       "      <td>37</td>\n",
       "      <td>RT @BalleriniVIDA: Las mujeres pobres aman a s...</td>\n",
       "      <td>jorge antunez</td>\n",
       "    </tr>\n",
       "    <tr>\n",
       "      <th>3</th>\n",
       "      <td>2018-04-17 11:12:13</td>\n",
       "      <td>0</td>\n",
       "      <td>no</td>\n",
       "      <td>0</td>\n",
       "      <td>@clarincom \"La preocupación por la vida no ata...</td>\n",
       "      <td>Veronica Vocos 🇦🇷</td>\n",
       "    </tr>\n",
       "    <tr>\n",
       "      <th>4</th>\n",
       "      <td>2018-04-17 11:05:41</td>\n",
       "      <td>0</td>\n",
       "      <td>no</td>\n",
       "      <td>9</td>\n",
       "      <td>RT @VotoCatolicoES: #NoAlAborto \\nEL DÍA EN QU...</td>\n",
       "      <td>Janet Cienfuegos</td>\n",
       "    </tr>\n",
       "  </tbody>\n",
       "</table>\n",
       "</div>"
      ],
      "text/plain": [
       "           created_at  favorite_count position  retweet_count  \\\n",
       "0 2018-04-17 11:40:55               0       no             12   \n",
       "1 2018-04-17 11:38:08               0       no             24   \n",
       "2 2018-04-17 11:15:34               0       no             37   \n",
       "3 2018-04-17 11:12:13               0       no              0   \n",
       "4 2018-04-17 11:05:41               0       no              9   \n",
       "\n",
       "                                                text          user_name  \n",
       "0  RT @LAM_Oficial: ¡Si a la Vida!¡No al aborto! ...       john giraldo  \n",
       "1  RT @PattRam74: Ahora a la izquierda le dió con...      Mario Astorga  \n",
       "2  RT @BalleriniVIDA: Las mujeres pobres aman a s...      jorge antunez  \n",
       "3  @clarincom \"La preocupación por la vida no ata...  Veronica Vocos 🇦🇷  \n",
       "4  RT @VotoCatolicoES: #NoAlAborto \\nEL DÍA EN QU...   Janet Cienfuegos  "
      ]
     },
     "execution_count": 12,
     "metadata": {},
     "output_type": "execute_result"
    }
   ],
   "source": [
    "tweets.head()"
   ]
  },
  {
   "cell_type": "markdown",
   "metadata": {},
   "source": [
    "## Linea de tiempo de tuiteo"
   ]
  },
  {
   "cell_type": "code",
   "execution_count": 13,
   "metadata": {},
   "outputs": [
    {
     "data": {
      "text/plain": [
       "<matplotlib.axes._subplots.AxesSubplot at 0x7fe4d8ca15f8>"
      ]
     },
     "execution_count": 13,
     "metadata": {},
     "output_type": "execute_result"
    },
    {
     "data": {
      "image/png": "[encoded data removed]",
      "text/plain": [
       "<Figure size 1440x432 with 1 Axes>"
      ]
     },
     "metadata": {},
     "output_type": "display_data"
    }
   ],
   "source": [
    "for_plt = tweets.set_index('created_at', drop=False, inplace=False)\n",
    "for_plt.created_at.groupby(pd.Grouper(freq='H')).count().plot(kind='bar', figsize=(20, 6))\n",
    "# TODO: plot discriminating over position taken"
   ]
  },
  {
   "cell_type": "markdown",
   "metadata": {},
   "source": [
    "# Trabajo solo con texto\n",
    "\n",
    "\n",
    "## Normalización\n"
   ]
  },
  {
   "cell_type": "code",
   "execution_count": 14,
   "metadata": {},
   "outputs": [],
   "source": [
    "txt_tweets = tweets['text']"
   ]
  },
  {
   "cell_type": "code",
   "execution_count": 15,
   "metadata": {},
   "outputs": [
    {
     "data": {
      "text/plain": [
       "no    502\n",
       "si    479\n",
       "Name: position, dtype: int64"
      ]
     },
     "execution_count": 15,
     "metadata": {},
     "output_type": "execute_result"
    }
   ],
   "source": [
    "# remove retweets (highly probable repetition on dataset)\n",
    "txt_tweets = txt_tweets[~txt_tweets.str.startswith('RT')]\n",
    "txt_tweets_position = tweets[~tweets['text'].str.startswith('RT')]['position']\n",
    "# TODO: remove really short tweets!!\n",
    "txt_tweets_position.value_counts()"
   ]
  },
  {
   "cell_type": "code",
   "execution_count": 16,
   "metadata": {},
   "outputs": [],
   "source": [
    "import re\n",
    "import unicodedata\n",
    "\n",
    "# for solutions without embedding?\n",
    "# from stop_words import get_stop_words\n",
    "\n",
    "# STOPWORDS = get_stop_words('en')\n",
    "# STOPWORDS.extend(get_stop_words('es'))\n",
    "\n",
    "\n",
    "def preprocess(doc):\n",
    "    pre_doc = doc\n",
    "        \n",
    "    # remove URLs\n",
    "    pre_doc = re.sub(\n",
    "        r\"https?://(?:[a-zA-Z]|[0-9]|[$-_@.&+]|[!*\\(\\),]|(?:%[0-9a-fA-F][0-9a-fA-F]))+\",\n",
    "        \" \", pre_doc)\n",
    "        \n",
    "    # find and split hashtags\n",
    "    pre_doc = re.sub(r\"(?:^|\\s)[＃#]{1}(\\w+)\", \n",
    "            lambda s: re.sub(r\"([A-Z])\", r\" \\1\", s.group(0)) if len(s.group(0)) > 5 else s.group(0), \n",
    "            pre_doc)\n",
    "    pre_doc = re.sub(r\"＃|#\", \" \", pre_doc)\n",
    "    \n",
    "    # lowercase everything\n",
    "    pre_doc = pre_doc.lower()\n",
    "        \n",
    "    # remove rare chars\n",
    "    pre_doc = re.sub(r\"\\@|\\'|\\\"|\\\\|…|\\/|\\-|\\||\\(|\\)|\\.|\\,|\\!|\\?|\\:|\\;|“|”|’|—\", \" \", pre_doc)\n",
    "    \n",
    "    # normalize whitespaces\n",
    "    pre_doc = re.sub(r\"\\s+\", \" \", pre_doc)\n",
    "    pre_doc = re.sub(r\"(^\\s)|(\\s$)\", \"\", pre_doc)\n",
    "    \n",
    "    # TODO: remove emojis!\n",
    "    # TODO: lemmatize?\n",
    "    \n",
    "    # remove accents? it also turns ñ to n..\n",
    "    pre_doc = ''.join(c for c in unicodedata.normalize('NFD', pre_doc) if unicodedata.category(c) != 'Mn')\n",
    "    \n",
    "    return pre_doc"
   ]
  },
  {
   "cell_type": "code",
   "execution_count": 17,
   "metadata": {},
   "outputs": [],
   "source": [
    "txt_tweets = txt_tweets.apply(preprocess)"
   ]
  },
  {
   "cell_type": "markdown",
   "metadata": {},
   "source": [
    "# Embeddig con FastText"
   ]
  },
  {
   "cell_type": "code",
   "execution_count": 18,
   "metadata": {},
   "outputs": [
    {
     "name": "stdout",
     "output_type": "stream",
     "text": [
      "CPU times: user 2.07 ms, sys: 195 µs, total: 2.27 ms\n",
      "Wall time: 1.68 ms\n"
     ]
    }
   ],
   "source": [
    "%%time\n",
    "# copy tweets text to temporary file\n",
    "text_tw = txt_tweets\n",
    "with open('tweets.txt', 'w+') as f:\n",
    "    for t in text_tw:\n",
    "        f.write(t + '\\n')"
   ]
  },
  {
   "cell_type": "code",
   "execution_count": 19,
   "metadata": {},
   "outputs": [
    {
     "name": "stderr",
     "output_type": "stream",
     "text": [
      "ERROR:root:Cell magic `%%memit` not found.\n"
     ]
    },
    {
     "name": "stdout",
     "output_type": "stream",
     "text": [
      "CPU times: user 3.19 ms, sys: 0 ns, total: 3.19 ms\n",
      "Wall time: 2.58 ms\n"
     ]
    }
   ],
   "source": [
    "%%time\n",
    "%%memit # not detecting os execution?\n",
    "import os\n",
    "# get vectors with pre-trained model in spanish. Very memory consuming!\n",
    "# fastext_bin_dir = \"/home/emanuel/fastText/fastText\"\n",
    "# model_path = \"/home/emanuel/fastText/models/wiki.es.bin\"\n",
    "# input_file_path = \"tweets.txt\"\n",
    "# output_file_path = \"tweets.ftvec\"\n",
    "# cmd = \"{}/fasttext print-sentence-vectors {} < {} > {}\".format(fastext_bin_dir,\n",
    "#                                                               model_path,\n",
    "#                                                               input_file_path,\n",
    "#                                                               output_file_path)\n",
    "# print(\"executing: {}\".format(cmd))\n",
    "# os.system(cmd)"
   ]
  },
  {
   "cell_type": "code",
   "execution_count": 20,
   "metadata": {},
   "outputs": [],
   "source": [
    "# get embeddings from file\n",
    "output_file_path = \"tweets.ftvec\"\n",
    "with open(output_file_path, \"r\") as f:\n",
    "    lines = f.readlines()\n",
    "\n",
    "# parse line to splitted string\n",
    "lines = [l.split(\" \")[:-1] for l in lines]"
   ]
  },
  {
   "cell_type": "code",
   "execution_count": 21,
   "metadata": {
    "scrolled": true
   },
   "outputs": [],
   "source": [
    "import numpy as np\n",
    "X_feat = np.zeros((len(text_tw), 300))\n",
    "X_feat[:,:] = lines\n",
    "X_tweets = text_tw"
   ]
  },
  {
   "cell_type": "markdown",
   "metadata": {},
   "source": [
    "# Clustering"
   ]
  },
  {
   "cell_type": "code",
   "execution_count": 22,
   "metadata": {},
   "outputs": [
    {
     "data": {
      "text/plain": [
       "1    0.483180\n",
       "3    0.352701\n",
       "0    0.112130\n",
       "2    0.040775\n",
       "4    0.011213\n",
       "Name: cluster, dtype: float64"
      ]
     },
     "execution_count": 22,
     "metadata": {},
     "output_type": "execute_result"
    }
   ],
   "source": [
    "from sklearn.cluster import KMeans\n",
    "# test example\n",
    "kmeans = KMeans(n_clusters=5, random_state=1).fit(X_feat)\n",
    "X_cluster = kmeans.predict(X_feat)\n",
    "df_tweets = pd.DataFrame({'text': X_tweets, 'cluster': X_cluster, 'position': txt_tweets_position})\n",
    "df_tweets.cluster.value_counts(normalize=True)"
   ]
  },
  {
   "cell_type": "code",
   "execution_count": 23,
   "metadata": {},
   "outputs": [],
   "source": [
    "# function to get closest tweets to centroid in cluster\n",
    "def get_closest_tweets(X_trans, clust, max_t=10):\n",
    "    idx = np.argsort(X_trans[:, clust])[::-1][:50]\n",
    "    tweets = X_tweets.iloc[idx].drop_duplicates()\n",
    "    return tweets[:max_t]"
   ]
  },
  {
   "cell_type": "markdown",
   "metadata": {},
   "source": [
    "Buen comienzo! no hay clases excesivamente mayoritarias "
   ]
  },
  {
   "cell_type": "markdown",
   "metadata": {},
   "source": [
    "### Muestra de ejemplo para diferentes K"
   ]
  },
  {
   "cell_type": "code",
   "execution_count": 24,
   "metadata": {
    "scrolled": true
   },
   "outputs": [
    {
     "name": "stdout",
     "output_type": "stream",
     "text": [
      "\n",
      "\n",
      "\t\t\t\t\tResultados para k-means, K = 2\n",
      "\n",
      "\tDistribución de frecuencias por cluster\n",
      "clust\tfrequencia\n",
      "0    0.950051\n",
      "1    0.049949\n",
      "Name: cluster, dtype: float64\n",
      "\n",
      "\tTweets más cercanos por cluster\n",
      "\tCluster 0, tweets:\n",
      "587                 noalaborto\n",
      "3489               abortolegal\n",
      "1436    milifarina2 noalaborto\n",
      "2790              aborto legal\n",
      "460       noalaborto sialavida\n",
      "Name: text, dtype: object\n",
      "\n",
      "\n",
      "\tCluster 1, tweets:\n",
      "589                                            noalaborto\n",
      "2430    el salvador watch the video on these courageou...\n",
      "3014    probirth politicians propose death penalty wom...\n",
      "81                                      n oal a b o r t o\n",
      "2413                   lalugalvanok a b o r t o l e g a l\n",
      "Name: text, dtype: object\n",
      "\n",
      "\n",
      "\n",
      "\n",
      "\t\t\t\t\tResultados para k-means, K = 4\n",
      "\n",
      "\tDistribución de frecuencias por cluster\n",
      "clust\tfrequencia\n",
      "0    0.654434\n",
      "2    0.169215\n",
      "1    0.141692\n",
      "3    0.034659\n",
      "Name: cluster, dtype: float64\n",
      "\n",
      "\tTweets más cercanos por cluster\n",
      "\tCluster 0, tweets:\n",
      "607                 noalaborto\n",
      "3093               abortolegal\n",
      "1436    milifarina2 noalaborto\n",
      "3522              aborto legal\n",
      "460       noalaborto sialavida\n",
      "Name: text, dtype: object\n",
      "\n",
      "\n",
      "\tCluster 1, tweets:\n",
      "1035                            noalaborto\n",
      "3489                           abortolegal\n",
      "2001                          aborto legal\n",
      "1436                milifarina2 noalaborto\n",
      "2235    abortolegal💪 abajolaclandestinidad\n",
      "Name: text, dtype: object\n",
      "\n",
      "\n",
      "\tCluster 2, tweets:\n",
      "587                 noalaborto\n",
      "3093               abortolegal\n",
      "1436    milifarina2 noalaborto\n",
      "460       noalaborto sialavida\n",
      "1113      sialavida noalaborto\n",
      "Name: text, dtype: object\n",
      "\n",
      "\n",
      "\tCluster 3, tweets:\n",
      "589                         noalaborto\n",
      "460               noalaborto sialavida\n",
      "1113              sialavida noalaborto\n",
      "1436            milifarina2 noalaborto\n",
      "612     lmneuquen noalaborto sialavida\n",
      "Name: text, dtype: object\n",
      "\n",
      "\n",
      "\n",
      "\n",
      "\t\t\t\t\tResultados para k-means, K = 6\n",
      "\n",
      "\tDistribución de frecuencias por cluster\n",
      "clust\tfrequencia\n",
      "4    0.398573\n",
      "1    0.301733\n",
      "0    0.153925\n",
      "2    0.099898\n",
      "5    0.034659\n",
      "3    0.011213\n",
      "Name: cluster, dtype: float64\n",
      "\n",
      "\tTweets más cercanos por cluster\n",
      "\tCluster 0, tweets:\n",
      "587                 noalaborto\n",
      "3093               abortolegal\n",
      "1436    milifarina2 noalaborto\n",
      "1113      sialavida noalaborto\n",
      "1606      noalaborto sialavida\n",
      "Name: text, dtype: object\n",
      "\n",
      "\n",
      "\tCluster 1, tweets:\n",
      "587                 noalaborto\n",
      "3093               abortolegal\n",
      "1436    milifarina2 noalaborto\n",
      "2860              aborto legal\n",
      "1113      sialavida noalaborto\n",
      "Name: text, dtype: object\n",
      "\n",
      "\n",
      "\tCluster 2, tweets:\n",
      "587                 noalaborto\n",
      "3093               abortolegal\n",
      "1436    milifarina2 noalaborto\n",
      "460       noalaborto sialavida\n",
      "1113      sialavida noalaborto\n",
      "Name: text, dtype: object\n",
      "\n",
      "\n",
      "\tCluster 3, tweets:\n",
      "2430    el salvador watch the video on these courageou...\n",
      "3014    probirth politicians propose death penalty wom...\n",
      "3489                                          abortolegal\n",
      "3419    amnesty chief calls latin america s abortion l...\n",
      "1197           😠😠😠😠 s i a l a v i d a n o a l a b o r t o\n",
      "Name: text, dtype: object\n",
      "\n",
      "\n",
      "\tCluster 4, tweets:\n",
      "587                             noalaborto\n",
      "3489                           abortolegal\n",
      "1436                milifarina2 noalaborto\n",
      "3522                          aborto legal\n",
      "2235    abortolegal💪 abajolaclandestinidad\n",
      "Name: text, dtype: object\n",
      "\n",
      "\n",
      "\tCluster 5, tweets:\n",
      "589                         noalaborto\n",
      "460               noalaborto sialavida\n",
      "1113              sialavida noalaborto\n",
      "1436            milifarina2 noalaborto\n",
      "612     lmneuquen noalaborto sialavida\n",
      "Name: text, dtype: object\n",
      "\n",
      "\n",
      "\n",
      "\n",
      "\t\t\t\t\tResultados para k-means, K = 8\n",
      "\n",
      "\tDistribución de frecuencias por cluster\n",
      "clust\tfrequencia\n",
      "2    0.376147\n",
      "0    0.285423\n",
      "6    0.099898\n",
      "5    0.095821\n",
      "1    0.068298\n",
      "3    0.034659\n",
      "7    0.028542\n",
      "4    0.011213\n",
      "Name: cluster, dtype: float64\n",
      "\n",
      "\tTweets más cercanos por cluster\n",
      "\tCluster 0, tweets:\n",
      "589                 noalaborto\n",
      "3093               abortolegal\n",
      "1436    milifarina2 noalaborto\n",
      "3884              aborto legal\n",
      "1113      sialavida noalaborto\n",
      "Name: text, dtype: object\n",
      "\n",
      "\n",
      "\tCluster 1, tweets:\n",
      "589                             noalaborto\n",
      "3489                           abortolegal\n",
      "3522                          aborto legal\n",
      "1436                milifarina2 noalaborto\n",
      "2235    abortolegal💪 abajolaclandestinidad\n",
      "Name: text, dtype: object\n",
      "\n",
      "\n",
      "\tCluster 2, tweets:\n",
      "589                             noalaborto\n",
      "3489                           abortolegal\n",
      "1436                milifarina2 noalaborto\n",
      "2790                          aborto legal\n",
      "2235    abortolegal💪 abajolaclandestinidad\n",
      "Name: text, dtype: object\n",
      "\n",
      "\n",
      "\tCluster 3, tweets:\n",
      "589                         noalaborto\n",
      "460               noalaborto sialavida\n",
      "1113              sialavida noalaborto\n",
      "1436            milifarina2 noalaborto\n",
      "612     lmneuquen noalaborto sialavida\n",
      "Name: text, dtype: object\n",
      "\n",
      "\n",
      "\tCluster 4, tweets:\n",
      "2430    el salvador watch the video on these courageou...\n",
      "3014    probirth politicians propose death penalty wom...\n",
      "3489                                          abortolegal\n",
      "3419    amnesty chief calls latin america s abortion l...\n",
      "1197           😠😠😠😠 s i a l a v i d a n o a l a b o r t o\n",
      "Name: text, dtype: object\n",
      "\n",
      "\n",
      "\tCluster 5, tweets:\n",
      "607                 noalaborto\n",
      "3489               abortolegal\n",
      "1436    milifarina2 noalaborto\n",
      "1113      sialavida noalaborto\n",
      "1606      noalaborto sialavida\n",
      "Name: text, dtype: object\n",
      "\n",
      "\n",
      "\tCluster 6, tweets:\n",
      "589                 noalaborto\n",
      "3489               abortolegal\n",
      "1436    milifarina2 noalaborto\n",
      "460       noalaborto sialavida\n",
      "1113      sialavida noalaborto\n",
      "Name: text, dtype: object\n",
      "\n",
      "\n",
      "\tCluster 7, tweets:\n",
      "606                             noalaborto\n",
      "3489                           abortolegal\n",
      "1436                milifarina2 noalaborto\n",
      "3884                          aborto legal\n",
      "2235    abortolegal💪 abajolaclandestinidad\n",
      "Name: text, dtype: object\n",
      "\n",
      "\n",
      "\n",
      "\n",
      "\t\t\t\t\tResultados para k-means, K = 10\n",
      "\n",
      "\tDistribución de frecuencias por cluster\n",
      "clust\tfrequencia\n",
      "2    0.233435\n",
      "0    0.219164\n",
      "4    0.189602\n",
      "3    0.102956\n",
      "5    0.087666\n",
      "8    0.061162\n",
      "1    0.034659\n",
      "6    0.031600\n",
      "7    0.029562\n",
      "9    0.010194\n",
      "Name: cluster, dtype: float64\n",
      "\n",
      "\tTweets más cercanos por cluster\n",
      "\tCluster 0, tweets:\n",
      "607                             noalaborto\n",
      "3093                           abortolegal\n",
      "1436                milifarina2 noalaborto\n",
      "3314                          aborto legal\n",
      "2235    abortolegal💪 abajolaclandestinidad\n",
      "Name: text, dtype: object\n",
      "\n",
      "\n",
      "\tCluster 1, tweets:\n",
      "589                         noalaborto\n",
      "460               noalaborto sialavida\n",
      "1113              sialavida noalaborto\n",
      "1436            milifarina2 noalaborto\n",
      "612     lmneuquen noalaborto sialavida\n",
      "Name: text, dtype: object\n",
      "\n",
      "\n",
      "\tCluster 2, tweets:\n",
      "606                 noalaborto\n",
      "3489               abortolegal\n",
      "1436    milifarina2 noalaborto\n",
      "4146              aborto legal\n",
      "460       noalaborto sialavida\n",
      "Name: text, dtype: object\n",
      "\n",
      "\n",
      "\tCluster 3, tweets:\n",
      "589                 noalaborto\n",
      "3489               abortolegal\n",
      "1436    milifarina2 noalaborto\n",
      "1113      sialavida noalaborto\n",
      "1606      noalaborto sialavida\n",
      "Name: text, dtype: object\n",
      "\n",
      "\n",
      "\tCluster 4, tweets:\n",
      "606                             noalaborto\n",
      "3489                           abortolegal\n",
      "1436                milifarina2 noalaborto\n",
      "2235    abortolegal💪 abajolaclandestinidad\n",
      "2849                          aborto legal\n",
      "Name: text, dtype: object\n",
      "\n",
      "\n",
      "\tCluster 5, tweets:\n",
      "589                 noalaborto\n",
      "3489               abortolegal\n",
      "1436    milifarina2 noalaborto\n",
      "460       noalaborto sialavida\n",
      "1113      sialavida noalaborto\n",
      "Name: text, dtype: object\n",
      "\n",
      "\n",
      "\tCluster 6, tweets:\n",
      "587                             noalaborto\n",
      "3489                           abortolegal\n",
      "1436                milifarina2 noalaborto\n",
      "2849                          aborto legal\n",
      "2235    abortolegal💪 abajolaclandestinidad\n",
      "Name: text, dtype: object\n",
      "\n",
      "\n",
      "\tCluster 7, tweets:\n",
      "606                 noalaborto\n",
      "3093               abortolegal\n",
      "460       noalaborto sialavida\n",
      "1113      sialavida noalaborto\n",
      "1436    milifarina2 noalaborto\n",
      "Name: text, dtype: object\n",
      "\n",
      "\n",
      "\tCluster 8, tweets:\n",
      "589                             noalaborto\n",
      "3489                           abortolegal\n",
      "2849                          aborto legal\n",
      "1436                milifarina2 noalaborto\n",
      "2235    abortolegal💪 abajolaclandestinidad\n",
      "Name: text, dtype: object\n",
      "\n",
      "\n",
      "\tCluster 9, tweets:\n",
      "2430    el salvador watch the video on these courageou...\n",
      "3014    probirth politicians propose death penalty wom...\n",
      "3489                                          abortolegal\n",
      "3419    amnesty chief calls latin america s abortion l...\n",
      "1197           😠😠😠😠 s i a l a v i d a n o a l a b o r t o\n",
      "Name: text, dtype: object\n",
      "\n",
      "\n"
     ]
    }
   ],
   "source": [
    "for nclust in range(2,11, 2):\n",
    "    print('\\n\\n\\t\\t\\t\\t\\tResultados para k-means, K = {}\\n'.format(nclust))\n",
    "    kmeans = KMeans(n_clusters=nclust, random_state=1).fit(X_feat)\n",
    "    X_cluster = kmeans.predict(X_feat)\n",
    "    X_transformed = kmeans.transform(X_feat)\n",
    "    df_tweets = pd.DataFrame({'text': X_tweets, 'cluster': X_cluster, 'position': txt_tweets_position})\n",
    "    print('\\tDistribución de frecuencias por cluster')\n",
    "    print('clust\\tfrequencia')\n",
    "    print('{}'.format(df_tweets.cluster.value_counts(normalize=True)))\n",
    "    print('\\n\\tTweets más cercanos por cluster')\n",
    "    for c in range(nclust):\n",
    "        closest_tweets_to_centroid = get_closest_tweets(X_transformed, c, max_t=5)\n",
    "        print('\\tCluster {}, tweets:'.format(c))\n",
    "        print(closest_tweets_to_centroid)\n",
    "        print('\\n')\n",
    "    # TODO: get fastext representation of centroid?"
   ]
  },
  {
   "cell_type": "markdown",
   "metadata": {},
   "source": [
    "### Métrica Silhouette\n",
    "\n",
    "Trataremos de encontrar un valor aceptable para K usando la métrica silhouette."
   ]
  },
  {
   "cell_type": "code",
   "execution_count": 25,
   "metadata": {},
   "outputs": [
    {
     "name": "stdout",
     "output_type": "stream",
     "text": [
      "K = 2\tSilhouette average: 0.45844720380053683\n",
      "K = 3\tSilhouette average: 0.08803735097701343\n",
      "K = 4\tSilhouette average: 0.13307336084792187\n",
      "K = 5\tSilhouette average: 0.10801017676890826\n",
      "K = 6\tSilhouette average: 0.09508983381804954\n",
      "K = 7\tSilhouette average: 0.09896945278657092\n",
      "K = 8\tSilhouette average: 0.10601023538588579\n",
      "K = 9\tSilhouette average: 0.09360738998387101\n",
      "K = 10\tSilhouette average: 0.09338289382104782\n",
      "K = 11\tSilhouette average: 0.09744946381975789\n",
      "K = 12\tSilhouette average: 0.09586269957808449\n",
      "K = 13\tSilhouette average: 0.0984343388765848\n",
      "K = 14\tSilhouette average: 0.09844685432977207\n"
     ]
    }
   ],
   "source": [
    "from sklearn.metrics import silhouette_score\n",
    "\n",
    "for n_clust in range(2,15):\n",
    "    kmeans = KMeans(n_clusters=n_clust, random_state=1)\n",
    "    X_cluster = kmeans.fit_predict(X_feat)\n",
    "    silhouette_avg = silhouette_score(X_feat, X_cluster)\n",
    "    print('K = {}\\tSilhouette average: {}'.format(n_clust, silhouette_avg))"
   ]
  },
  {
   "cell_type": "markdown",
   "metadata": {},
   "source": [
    "Luego de variar un poco la semilla de aleatoriedad, los resultados mostrados aquí no cambian mucho. K=2 es mejor opcion por lejos."
   ]
  },
  {
   "cell_type": "markdown",
   "metadata": {},
   "source": [
    "### Fijar modelo para posteriores métricas\n",
    "\n",
    "Primero obtenemos un modelo fijo con algunas métricas y datos."
   ]
  },
  {
   "cell_type": "code",
   "execution_count": 26,
   "metadata": {},
   "outputs": [
    {
     "name": "stdout",
     "output_type": "stream",
     "text": [
      "\tDistribución de frecuencias por cluster\n",
      "clust\tfrequencia\n",
      "0    0.950051\n",
      "1    0.049949\n",
      "Name: cluster, dtype: float64\n",
      "\n",
      "\tTweets más cercanos por cluster\n",
      "\tCluster 0, tweets:\n",
      "noalaborto\n",
      "abortolegal\n",
      "milifarina2 noalaborto\n",
      "aborto legal\n",
      "noalaborto sialavida\n",
      "sialavida noalaborto\n",
      "abortolegal💪 abajolaclandestinidad\n",
      "lmneuquen noalaborto sialavida\n",
      "probirth politicians propose death penalty women can simply remove what they want 1000 s of arson bombings shoot\n",
      "el salvador watch the video on these courageous women who faced pregnancy complications and ended up in prison in\n",
      "lanus zonasur panuelazo abortolegal\n",
      "aborto legal aborto legal ya\n",
      "aborto legal ya aborto legal\n",
      "n oal aborto\n",
      "almagro_oea2015 gustavolainette isabelstmalo jorgefaurie cepal_onu aliciabarcena canadaoas gwynethkutz\n",
      "repost pathyonline get_repost ・・・ sialavida noalaborto\n",
      "amnesty chief calls latin america s abortion laws violence against women latinoamerica aborto legal\n",
      "aborto legal eltiempoesahora\n",
      "mariano_bondar aborto legal\n",
      "aborto legal ya aborto legal ya aborto legal\n",
      "\n",
      "\n",
      "\tCluster 1, tweets:\n",
      "noalaborto\n",
      "el salvador watch the video on these courageous women who faced pregnancy complications and ended up in prison in\n",
      "probirth politicians propose death penalty women can simply remove what they want 1000 s of arson bombings shoot\n",
      "n oal a b o r t o\n",
      "lalugalvanok a b o r t o l e g a l\n",
      "😠😠😠😠 s i a l a v i d a n o a l a b o r t o\n",
      "sialavida noalaborto\n",
      "noalaborto sialavida\n",
      "almagro_oea2015 gustavolainette isabelstmalo jorgefaurie cepal_onu aliciabarcena canadaoas gwynethkutz\n",
      "milifarina2 noalaborto\n",
      "lmneuquen noalaborto sialavida\n",
      "nosotros argentos jactanciosos de ser modernos y de avant garde nos reimos y burlamos de los espanoles a los que se\n",
      "aplaudimos las moratorias aplaudimos la auh aplaudimos los subsidios aplaudimos progresar aplaudimos fines apl\n",
      "andiaiello diputadosucr ucrnacional laureanors gondelcerro murfede geolosada brendalisaustin kbanfi\n",
      "repost pathyonline get_repost ・・・ sialavida noalaborto\n",
      "madness_soul_ todonoticias como desde el principio de los tiempos desde antes ahora y para siempre la mayoria de\n",
      "macripresi2019 juan_turralde91 alerosario_2014 missencuestas2 almafue89205157 ivanalescanomdq aslaug59\n",
      "comunicado del colegio medico de el salvador destacan la defensa de la vida desde el momento de la concepcion\n",
      "un ser que depende de la madre en su etapa de desarrollo no es parte del parte del cuerpo de esta ni mucho menos\n",
      "la verdadera carta de la academia nacional de medicina n o a l a b o r t o s i a l a v i d a\n",
      "\n",
      "\n"
     ]
    }
   ],
   "source": [
    "n_clust = 2\n",
    "kmeans = KMeans(n_clusters=n_clust, random_state=1).fit(X_feat)\n",
    "X_cluster = kmeans.predict(X_feat)\n",
    "X_transformed = kmeans.transform(X_feat)\n",
    "df_tweets = pd.DataFrame({'text': X_tweets, 'cluster': X_cluster, 'position': txt_tweets_position})\n",
    "print('\\tDistribución de frecuencias por cluster')\n",
    "print('clust\\tfrequencia')\n",
    "print('{}'.format(df_tweets.cluster.value_counts(normalize=True)))\n",
    "print('\\n\\tTweets más cercanos por cluster')\n",
    "for c in range(n_clust):\n",
    "    closest_tweets_to_centroid = get_closest_tweets(X_transformed, c, max_t=20)\n",
    "    print('\\tCluster {}, tweets:'.format(c))\n",
    "    for t in closest_tweets_to_centroid:\n",
    "        print(t)\n",
    "    print('\\n')"
   ]
  },
  {
   "cell_type": "markdown",
   "metadata": {},
   "source": [
    "No se obtuvo la división tajante que se esperaría: el reconocer posiciones a favor y en contra. Esto se puede ver además en la desproporción de los tamaños de los clústers:"
   ]
  },
  {
   "cell_type": "code",
   "execution_count": 27,
   "metadata": {},
   "outputs": [
    {
     "data": {
      "text/plain": [
       "no    0.511723\n",
       "si    0.488277\n",
       "Name: position, dtype: float64"
      ]
     },
     "execution_count": 27,
     "metadata": {},
     "output_type": "execute_result"
    }
   ],
   "source": [
    "df_tweets.position.value_counts(normalize=True)"
   ]
  },
  {
   "cell_type": "markdown",
   "metadata": {},
   "source": [
    "Este comportamiento puede atribuirse a ciertas limitaciones que se encontrarion:\n",
    "- Los textos de los tweets se encuentran cortados: tweets con más de 140 caracteres se cierran con puntos suspensivos.\n",
    "- Muchos tweets muy cortos: Existen muchos tweets que cuentan con una pronunciación escueta con respecto al tema, lo cual puede traer ruido a la hora de clasificar con K-Means."
   ]
  },
  {
   "cell_type": "markdown",
   "metadata": {},
   "source": [
    "A continuación se presentan algunas métricas para comparar la pertenencia de un tweet a un cluster con la posición a favor o en contra:"
   ]
  },
  {
   "cell_type": "markdown",
   "metadata": {},
   "source": [
    "Dado que su posisión sea en contra o a favor de la legalización, la pertenencia algún cluster NO presenta una mayoría relevante"
   ]
  },
  {
   "cell_type": "code",
   "execution_count": 28,
   "metadata": {},
   "outputs": [
    {
     "data": {
      "text/plain": [
       "0    496\n",
       "1      6\n",
       "Name: cluster, dtype: int64"
      ]
     },
     "execution_count": 28,
     "metadata": {},
     "output_type": "execute_result"
    }
   ],
   "source": [
    "df_tweets[df_tweets.position == 'no'].cluster.value_counts()"
   ]
  },
  {
   "cell_type": "code",
   "execution_count": 29,
   "metadata": {
    "scrolled": true
   },
   "outputs": [
    {
     "data": {
      "text/plain": [
       "0    436\n",
       "1     43\n",
       "Name: cluster, dtype: int64"
      ]
     },
     "execution_count": 29,
     "metadata": {},
     "output_type": "execute_result"
    }
   ],
   "source": [
    "df_tweets[df_tweets.position == 'si'].cluster.value_counts()"
   ]
  },
  {
   "cell_type": "markdown",
   "metadata": {},
   "source": [
    "Y a la inversa: dado que pertenecen a un clúster, la posisión en contra o a favor de la legalización no destaca."
   ]
  },
  {
   "cell_type": "code",
   "execution_count": 30,
   "metadata": {},
   "outputs": [
    {
     "data": {
      "text/plain": [
       "no    496\n",
       "si    436\n",
       "Name: position, dtype: int64"
      ]
     },
     "execution_count": 30,
     "metadata": {},
     "output_type": "execute_result"
    }
   ],
   "source": [
    "df_tweets[df_tweets.cluster == 0].position.value_counts()"
   ]
  },
  {
   "cell_type": "code",
   "execution_count": 31,
   "metadata": {},
   "outputs": [
    {
     "data": {
      "text/plain": [
       "si    43\n",
       "no     6\n",
       "Name: position, dtype: int64"
      ]
     },
     "execution_count": 31,
     "metadata": {},
     "output_type": "execute_result"
    }
   ],
   "source": [
    "df_tweets[df_tweets.cluster == 1].position.value_counts()"
   ]
  }
 ],
 "metadata": {
  "kernelspec": {
   "display_name": "Python [conda env:diplodatos-ayv]",
   "language": "python",
   "name": "conda-env-diplodatos-ayv-py"
  },
  "language_info": {
   "codemirror_mode": {
    "name": "ipython",
    "version": 3
   },
   "file_extension": ".py",
   "mimetype": "text/x-python",
   "name": "python",
   "nbconvert_exporter": "python",
   "pygments_lexer": "ipython3",
   "version": "3.5.5"
  }
 },
 "nbformat": 4,
 "nbformat_minor": 2
}
